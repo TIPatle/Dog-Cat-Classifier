{
 "cells": [
  {
   "cell_type": "markdown",
   "metadata": {
    "id": "Ksdyd-FU2Ynp"
   },
   "source": [
    "# Convolution Neural Network"
   ]
  },
  {
   "cell_type": "markdown",
   "metadata": {
    "id": "AqSXilSR2jZV"
   },
   "source": [
    "## Importing Libraries"
   ]
  },
  {
   "cell_type": "code",
   "execution_count": 1,
   "metadata": {
    "id": "_L36gEiQy_c0"
   },
   "outputs": [],
   "source": [
    "import tensorflow as tf"
   ]
  },
  {
   "cell_type": "code",
   "execution_count": 2,
   "metadata": {
    "id": "fwWNgigy2iIq"
   },
   "outputs": [],
   "source": [
    "from keras.preprocessing.image import ImageDataGenerator"
   ]
  },
  {
   "cell_type": "markdown",
   "metadata": {
    "id": "Wl1xzcnU2w9B"
   },
   "source": [
    "# Data Preprocessing"
   ]
  },
  {
   "cell_type": "markdown",
   "metadata": {
    "id": "LudGNEVT3KyU"
   },
   "source": [
    "## Preprocessing the training set"
   ]
  },
  {
   "cell_type": "markdown",
   "metadata": {
    "id": "TgJH4wiR3aJ-"
   },
   "source": [
    "We would do some transformation so that to avoid overfitting as in computer vision the training dataset overfitted very easily. So we will apply some geometrical changes which will change the orientation of the images."
   ]
  },
  {
   "cell_type": "code",
   "execution_count": 3,
   "metadata": {
    "id": "rBWvMCtZ20hi"
   },
   "outputs": [
    {
     "name": "stdout",
     "output_type": "stream",
     "text": [
      "Found 8000 images belonging to 2 classes.\n"
     ]
    }
   ],
   "source": [
    "trainDatagen = ImageDataGenerator( rescale = 1./255, zoom_range = 0.2, shear_range =0.2, horizontal_flip = True )\n",
    "trainingSet = trainDatagen.flow_from_directory('dataset/training_set', target_size = (64, 64), batch_size = 32, class_mode = 'binary' )"
   ]
  },
  {
   "cell_type": "markdown",
   "metadata": {
    "id": "s2Pl6gci3Qcq"
   },
   "source": [
    "## Preprocessing the test set"
   ]
  },
  {
   "cell_type": "code",
   "execution_count": 4,
   "metadata": {
    "id": "Fh9xpsWu3VTA"
   },
   "outputs": [
    {
     "name": "stdout",
     "output_type": "stream",
     "text": [
      "Found 2000 images belonging to 2 classes.\n"
     ]
    }
   ],
   "source": [
    "testDatagen = ImageDataGenerator( rescale = 1./255 )\n",
    "testSet = testDatagen.flow_from_directory('dataset/test_set', target_size = (64, 64), batch_size = 32, class_mode = 'binary' )"
   ]
  },
  {
   "cell_type": "markdown",
   "metadata": {
    "id": "3P5G9lYv8A6P"
   },
   "source": [
    "# Building the CNN"
   ]
  },
  {
   "cell_type": "markdown",
   "metadata": {
    "id": "VZmB3oCcBLeM"
   },
   "source": [
    "## Intialising the CNN"
   ]
  },
  {
   "cell_type": "code",
   "execution_count": 5,
   "metadata": {
    "id": "NXRvOM6rBVax"
   },
   "outputs": [],
   "source": [
    "cnn = tf.keras.models.Sequential()"
   ]
  },
  {
   "cell_type": "markdown",
   "metadata": {
    "id": "7CbnpGvL8E5V"
   },
   "source": [
    "## Convolution"
   ]
  },
  {
   "cell_type": "code",
   "execution_count": 6,
   "metadata": {
    "id": "dN7RV_OPBPrc"
   },
   "outputs": [],
   "source": [
    "cnn.add( tf.keras.layers.Conv2D( filters = 32, kernel_size = 3, activation = 'relu', input_shape = (64, 64, 3) ) )"
   ]
  },
  {
   "cell_type": "markdown",
   "metadata": {
    "id": "lobPRRgZ8Kw1"
   },
   "source": [
    "## Pooling"
   ]
  },
  {
   "cell_type": "code",
   "execution_count": 7,
   "metadata": {
    "id": "gdYkbkI78mSW"
   },
   "outputs": [],
   "source": [
    "cnn.add( tf.keras.layers.MaxPool2D( pool_size = 2, strides = 2 ))"
   ]
  },
  {
   "cell_type": "markdown",
   "metadata": {
    "id": "eXb4qWaFDOlL"
   },
   "source": [
    "## Adding Second Convolution layer"
   ]
  },
  {
   "cell_type": "code",
   "execution_count": 8,
   "metadata": {
    "id": "kiLL12RTDVmB"
   },
   "outputs": [],
   "source": [
    "cnn.add( tf.keras.layers.Conv2D( filters = 32, kernel_size = 3, activation = 'relu' ) )\n",
    "cnn.add( tf.keras.layers.MaxPool2D( pool_size = 2, strides = 2 ))"
   ]
  },
  {
   "cell_type": "markdown",
   "metadata": {
    "id": "ZgMFuxgA8oqv"
   },
   "source": [
    "## Flattening"
   ]
  },
  {
   "cell_type": "code",
   "execution_count": 9,
   "metadata": {
    "id": "8m2byFp08wA4"
   },
   "outputs": [],
   "source": [
    "cnn.add( tf.keras.layers.Flatten() )"
   ]
  },
  {
   "cell_type": "markdown",
   "metadata": {
    "id": "EZ-bqXnB8xl4"
   },
   "source": [
    "## Full Connection"
   ]
  },
  {
   "cell_type": "code",
   "execution_count": 10,
   "metadata": {
    "id": "fq7Hv4K6820Z"
   },
   "outputs": [],
   "source": [
    "cnn.add( tf.keras.layers.Dense( units = 128, activation = 'relu' ) )"
   ]
  },
  {
   "cell_type": "markdown",
   "metadata": {
    "id": "I8tH8DWD84EA"
   },
   "source": [
    "## Output Layer"
   ]
  },
  {
   "cell_type": "code",
   "execution_count": 11,
   "metadata": {
    "id": "zszwm7beEVOE"
   },
   "outputs": [],
   "source": [
    "cnn.add( tf.keras.layers.Dense( units = 1, activation = 'sigmoid' ) )"
   ]
  },
  {
   "cell_type": "markdown",
   "metadata": {
    "id": "LgnfaDW29DG5"
   },
   "source": [
    "# Training the CNN"
   ]
  },
  {
   "cell_type": "markdown",
   "metadata": {
    "id": "_XKMfyhf9Lh7"
   },
   "source": [
    "## Compiling the CNN"
   ]
  },
  {
   "cell_type": "code",
   "execution_count": 12,
   "metadata": {
    "id": "MZpqiCtiF2l0"
   },
   "outputs": [],
   "source": [
    "cnn.compile(optimizer = 'adam', loss = 'binary_crossentropy', metrics = ['accuracy'])"
   ]
  },
  {
   "cell_type": "markdown",
   "metadata": {
    "id": "urzf5pHZ9U5S"
   },
   "source": [
    "## Training the CNN on training dataset and evaluating on test set"
   ]
  },
  {
   "cell_type": "code",
   "execution_count": 13,
   "metadata": {
    "id": "t1Zc9w-w87Gp"
   },
   "outputs": [
    {
     "name": "stdout",
     "output_type": "stream",
     "text": [
      "Epoch 1/25\n",
      "250/250 [==============================] - 46s 178ms/step - loss: 0.6799 - accuracy: 0.5717 - val_loss: 0.6781 - val_accuracy: 0.5665\n",
      "Epoch 2/25\n",
      "250/250 [==============================] - 29s 114ms/step - loss: 0.6145 - accuracy: 0.6622 - val_loss: 0.6055 - val_accuracy: 0.6710\n",
      "Epoch 3/25\n",
      "250/250 [==============================] - 30s 121ms/step - loss: 0.5640 - accuracy: 0.7064 - val_loss: 0.5628 - val_accuracy: 0.7230\n",
      "Epoch 4/25\n",
      "250/250 [==============================] - 34s 137ms/step - loss: 0.5357 - accuracy: 0.7309 - val_loss: 0.5219 - val_accuracy: 0.7445\n",
      "Epoch 5/25\n",
      "250/250 [==============================] - 29s 115ms/step - loss: 0.5138 - accuracy: 0.7454 - val_loss: 0.4968 - val_accuracy: 0.7545\n",
      "Epoch 6/25\n",
      "250/250 [==============================] - 30s 121ms/step - loss: 0.5023 - accuracy: 0.7544 - val_loss: 0.5280 - val_accuracy: 0.7510\n",
      "Epoch 7/25\n",
      "250/250 [==============================] - 28s 113ms/step - loss: 0.4820 - accuracy: 0.7644 - val_loss: 0.5006 - val_accuracy: 0.7635\n",
      "Epoch 8/25\n",
      "250/250 [==============================] - 31s 126ms/step - loss: 0.4617 - accuracy: 0.7832 - val_loss: 0.4752 - val_accuracy: 0.7740\n",
      "Epoch 9/25\n",
      "250/250 [==============================] - 30s 122ms/step - loss: 0.4439 - accuracy: 0.7860 - val_loss: 0.4919 - val_accuracy: 0.7590\n",
      "Epoch 10/25\n",
      "250/250 [==============================] - 29s 117ms/step - loss: 0.4368 - accuracy: 0.7959 - val_loss: 0.4650 - val_accuracy: 0.7810\n",
      "Epoch 11/25\n",
      "250/250 [==============================] - 30s 121ms/step - loss: 0.4244 - accuracy: 0.8001 - val_loss: 0.4577 - val_accuracy: 0.7915\n",
      "Epoch 12/25\n",
      "250/250 [==============================] - 30s 120ms/step - loss: 0.4095 - accuracy: 0.8090 - val_loss: 0.4662 - val_accuracy: 0.7910\n",
      "Epoch 13/25\n",
      "250/250 [==============================] - 30s 118ms/step - loss: 0.4019 - accuracy: 0.8158 - val_loss: 0.4643 - val_accuracy: 0.7970\n",
      "Epoch 14/25\n",
      "250/250 [==============================] - 31s 125ms/step - loss: 0.3947 - accuracy: 0.8181 - val_loss: 0.4459 - val_accuracy: 0.7995\n",
      "Epoch 15/25\n",
      "250/250 [==============================] - 30s 122ms/step - loss: 0.3848 - accuracy: 0.8263 - val_loss: 0.5098 - val_accuracy: 0.7650\n",
      "Epoch 16/25\n",
      "250/250 [==============================] - 31s 124ms/step - loss: 0.3774 - accuracy: 0.8289 - val_loss: 0.4785 - val_accuracy: 0.7765\n",
      "Epoch 17/25\n",
      "250/250 [==============================] - 29s 118ms/step - loss: 0.3585 - accuracy: 0.8388 - val_loss: 0.4821 - val_accuracy: 0.7915\n",
      "Epoch 18/25\n",
      "250/250 [==============================] - 29s 115ms/step - loss: 0.3563 - accuracy: 0.8395 - val_loss: 0.4643 - val_accuracy: 0.8005\n",
      "Epoch 19/25\n",
      "250/250 [==============================] - 30s 118ms/step - loss: 0.3450 - accuracy: 0.8456 - val_loss: 0.4749 - val_accuracy: 0.7925\n",
      "Epoch 20/25\n",
      "250/250 [==============================] - 29s 115ms/step - loss: 0.3404 - accuracy: 0.8480 - val_loss: 0.4570 - val_accuracy: 0.8160\n",
      "Epoch 21/25\n",
      "250/250 [==============================] - 33s 132ms/step - loss: 0.3241 - accuracy: 0.8597 - val_loss: 0.4923 - val_accuracy: 0.7950\n",
      "Epoch 22/25\n",
      "250/250 [==============================] - 32s 128ms/step - loss: 0.3221 - accuracy: 0.8596 - val_loss: 0.4786 - val_accuracy: 0.8095\n",
      "Epoch 23/25\n",
      "250/250 [==============================] - 30s 120ms/step - loss: 0.3026 - accuracy: 0.8690 - val_loss: 0.4609 - val_accuracy: 0.8020\n",
      "Epoch 24/25\n",
      "250/250 [==============================] - 33s 133ms/step - loss: 0.3045 - accuracy: 0.8680 - val_loss: 0.4587 - val_accuracy: 0.8090\n",
      "Epoch 25/25\n",
      "250/250 [==============================] - 35s 141ms/step - loss: 0.2972 - accuracy: 0.8742 - val_loss: 0.5512 - val_accuracy: 0.7775\n"
     ]
    },
    {
     "data": {
      "text/plain": [
       "<keras.callbacks.History at 0x1bf9dd0c130>"
      ]
     },
     "execution_count": 13,
     "metadata": {},
     "output_type": "execute_result"
    }
   ],
   "source": [
    "cnn.fit( x = trainingSet, validation_data = testSet, epochs = 25  )"
   ]
  },
  {
   "cell_type": "markdown",
   "metadata": {
    "id": "C3dvVOIl9kgL"
   },
   "source": [
    "# Making a Single Prediction"
   ]
  },
  {
   "cell_type": "code",
   "execution_count": 14,
   "metadata": {
    "id": "3JBX5nqW9o0P"
   },
   "outputs": [
    {
     "name": "stdout",
     "output_type": "stream",
     "text": [
      "1/1 [==============================] - 2s 2s/step\n"
     ]
    }
   ],
   "source": [
    "from numpy.lib.shape_base import expand_dims\n",
    "import numpy as np\n",
    "from tensorflow.keras.preprocessing import image\n",
    "\n",
    "test_image = tf.keras.utils.load_img ('dataset/single_prediction/cat_or_dog_4.jpg', target_size = (64, 64))\n",
    "test_image = image.img_to_array(test_image)\n",
    "test_image = np.expand_dims(test_image, axis = 0)\n",
    "\n",
    "result = cnn.predict(test_image)\n",
    "trainingSet.class_indices\n",
    "\n",
    "if result[0][0] == 1:\n",
    "    prediction = 'Dog'\n",
    "else:\n",
    "    prediction = 'Cat'"
   ]
  },
  {
   "cell_type": "code",
   "execution_count": 15,
   "metadata": {},
   "outputs": [
    {
     "name": "stdout",
     "output_type": "stream",
     "text": [
      "Dog\n"
     ]
    }
   ],
   "source": [
    "print(prediction)"
   ]
  },
  {
   "cell_type": "code",
   "execution_count": 25,
   "metadata": {},
   "outputs": [],
   "source": [
    "cnn.save('ClassifierCatDog.h5')"
   ]
  },
  {
   "cell_type": "code",
   "execution_count": null,
   "metadata": {},
   "outputs": [],
   "source": []
  }
 ],
 "metadata": {
  "colab": {
   "collapsed_sections": [],
   "provenance": []
  },
  "kernelspec": {
   "display_name": "Tensorflow2.0",
   "language": "python",
   "name": "tensorflow2.0"
  },
  "language_info": {
   "codemirror_mode": {
    "name": "ipython",
    "version": 3
   },
   "file_extension": ".py",
   "mimetype": "text/x-python",
   "name": "python",
   "nbconvert_exporter": "python",
   "pygments_lexer": "ipython3",
   "version": "3.10.4"
  }
 },
 "nbformat": 4,
 "nbformat_minor": 1
}
